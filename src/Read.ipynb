{
 "cells": [
  {
   "cell_type": "code",
   "execution_count": 1,
   "metadata": {},
   "outputs": [
    {
     "name": "stdout",
     "output_type": "stream",
     "text": [
      "Vehicle count: 25\n",
      "Capacity: 200\n"
     ]
    }
   ],
   "source": [
    "\"\"\"\n",
    "Example file:\n",
    "\n",
    "C101\n",
    "\n",
    "VEHICLE\n",
    "NUMBER     CAPACITY\n",
    "  25         200\n",
    "\n",
    "CUSTOMER\n",
    "CUST NO.  XCOORD.   YCOORD.    DEMAND   READY TIME  DUE DATE   SERVICE   TIME\n",
    " \n",
    "    0      40         50          0          0       1236          0                                 \n",
    "    1      45         68         10        912        967         90 \n",
    "... (CUSTOMER CUST NO column from 0 to VECHICLE NUMBER or moved by 1)    \n",
    "\"\"\"\n",
    "class Data(object):\n",
    "    def __init__(self, row = None):\n",
    "        if not row:\n",
    "            self.empty()\n",
    "            return\n",
    "        row = row.strip()\n",
    "        row = row.split()\n",
    "        if len(row) == 7:\n",
    "            row = list(map(lambda x: int(x), row))\n",
    "            attrs = ['customer', 'x_coord', 'y_coord', 'demand', 'ready_time', 'due_date', 'service_time']\n",
    "            obj = dict()\n",
    "            for (k, v) in zip(attrs, row):\n",
    "                setattr(self, k, v)\n",
    "    def empty(self):\n",
    "        self.customer = -1\n",
    "        self.x_coord = 0\n",
    "        self.y_coord = 0\n",
    "        self.demand = 0\n",
    "        self.ready_time = 0\n",
    "        self.due_date = 0\n",
    "        self.service_time = 0\n",
    "    def __repr__(self):\n",
    "        return 'Data object: {}'.format(str(self.__dict__))\n",
    "open_f = open('../input/C101.txt', 'r')\n",
    "name = (open_f.readline()).strip() \t\t\t\t\t# Title for benchmark\n",
    "for p in range(3):\n",
    "    open_f.readline() \t\t\t\t\t\t\t# Empty line, \"VECHICLE\", reast of header\n",
    "line = open_f.readline()\n",
    "line = line.strip() # Get rid of whitespaces before and after the line\n",
    "words = line.split()\n",
    "if len(words) == 2:\n",
    "    vehicle_count = int(words[0])\n",
    "    capacity = int(words[1])\n",
    "    print('Vehicle count: {}'.format(vehicle_count))\n",
    "    print('Capacity: {}'.format(capacity))\n",
    "\n",
    "data = []\n",
    "for i in range(4):\n",
    "    open_f.readline()\n",
    "    \n",
    "for line in open_f:\n",
    "    line = line.strip()\n",
    "    # Non empty line\n",
    "    if line != '':\n",
    "        d = Data(line)\n",
    "        if d:\n",
    "            data.append(d)"
   ]
  },
  {
   "cell_type": "code",
   "execution_count": 2,
   "metadata": {},
   "outputs": [
    {
     "name": "stdout",
     "output_type": "stream",
     "text": [
      "{'customer': 0, 'x_coord': 40, 'y_coord': 50, 'demand': 0, 'ready_time': 0, 'due_date': 1236, 'service_time': 0}\n",
      "{'customer': 1, 'x_coord': 45, 'y_coord': 68, 'demand': 10, 'ready_time': 912, 'due_date': 967, 'service_time': 90}\n",
      "{'customer': 2, 'x_coord': 45, 'y_coord': 70, 'demand': 30, 'ready_time': 825, 'due_date': 870, 'service_time': 90}\n",
      "{'customer': 3, 'x_coord': 42, 'y_coord': 66, 'demand': 10, 'ready_time': 65, 'due_date': 146, 'service_time': 90}\n",
      "{'customer': 4, 'x_coord': 42, 'y_coord': 68, 'demand': 10, 'ready_time': 727, 'due_date': 782, 'service_time': 90}\n",
      "{'customer': 5, 'x_coord': 42, 'y_coord': 65, 'demand': 10, 'ready_time': 15, 'due_date': 67, 'service_time': 90}\n",
      "{'customer': 6, 'x_coord': 40, 'y_coord': 69, 'demand': 20, 'ready_time': 621, 'due_date': 702, 'service_time': 90}\n",
      "{'customer': 7, 'x_coord': 40, 'y_coord': 66, 'demand': 20, 'ready_time': 170, 'due_date': 225, 'service_time': 90}\n",
      "{'customer': 8, 'x_coord': 38, 'y_coord': 68, 'demand': 20, 'ready_time': 255, 'due_date': 324, 'service_time': 90}\n",
      "{'customer': 9, 'x_coord': 38, 'y_coord': 70, 'demand': 10, 'ready_time': 534, 'due_date': 605, 'service_time': 90}\n",
      "{'customer': 10, 'x_coord': 35, 'y_coord': 66, 'demand': 10, 'ready_time': 357, 'due_date': 410, 'service_time': 90}\n",
      "{'customer': 11, 'x_coord': 35, 'y_coord': 69, 'demand': 10, 'ready_time': 448, 'due_date': 505, 'service_time': 90}\n",
      "{'customer': 12, 'x_coord': 25, 'y_coord': 85, 'demand': 20, 'ready_time': 652, 'due_date': 721, 'service_time': 90}\n",
      "{'customer': 13, 'x_coord': 22, 'y_coord': 75, 'demand': 30, 'ready_time': 30, 'due_date': 92, 'service_time': 90}\n",
      "{'customer': 14, 'x_coord': 22, 'y_coord': 85, 'demand': 10, 'ready_time': 567, 'due_date': 620, 'service_time': 90}\n",
      "{'customer': 15, 'x_coord': 20, 'y_coord': 80, 'demand': 40, 'ready_time': 384, 'due_date': 429, 'service_time': 90}\n",
      "{'customer': 16, 'x_coord': 20, 'y_coord': 85, 'demand': 40, 'ready_time': 475, 'due_date': 528, 'service_time': 90}\n",
      "{'customer': 17, 'x_coord': 18, 'y_coord': 75, 'demand': 20, 'ready_time': 99, 'due_date': 148, 'service_time': 90}\n",
      "{'customer': 18, 'x_coord': 15, 'y_coord': 75, 'demand': 20, 'ready_time': 179, 'due_date': 254, 'service_time': 90}\n",
      "{'customer': 19, 'x_coord': 15, 'y_coord': 80, 'demand': 10, 'ready_time': 278, 'due_date': 345, 'service_time': 90}\n",
      "{'customer': 20, 'x_coord': 30, 'y_coord': 50, 'demand': 10, 'ready_time': 10, 'due_date': 73, 'service_time': 90}\n",
      "{'customer': 21, 'x_coord': 30, 'y_coord': 52, 'demand': 20, 'ready_time': 914, 'due_date': 965, 'service_time': 90}\n",
      "{'customer': 22, 'x_coord': 28, 'y_coord': 52, 'demand': 20, 'ready_time': 812, 'due_date': 883, 'service_time': 90}\n",
      "{'customer': 23, 'x_coord': 28, 'y_coord': 55, 'demand': 10, 'ready_time': 732, 'due_date': 777, 'service_time': 90}\n",
      "{'customer': 24, 'x_coord': 25, 'y_coord': 50, 'demand': 10, 'ready_time': 65, 'due_date': 144, 'service_time': 90}\n",
      "{'customer': 25, 'x_coord': 25, 'y_coord': 52, 'demand': 40, 'ready_time': 169, 'due_date': 224, 'service_time': 90}\n"
     ]
    }
   ],
   "source": [
    "for d in data:\n",
    "    print(d.__dict__)"
   ]
  },
  {
   "cell_type": "code",
   "execution_count": 3,
   "metadata": {},
   "outputs": [],
   "source": [
    "import math\n",
    "def dist(point1, point2):\n",
    "    diff_x = point2.x_coord - point1.x_coord\n",
    "    diff_y = point2.y_coord - point2.y_coord\n",
    "    return math.sqrt(diff_x**2 + diff_y**2)"
   ]
  },
  {
   "cell_type": "code",
   "execution_count": 4,
   "metadata": {},
   "outputs": [],
   "source": [
    "class Solution(object):\n",
    "    \"\"\"set of sequences of customers ids\n",
    "       len(set) cannot be longer than count of vehicles\n",
    "       For each vehicle, it cannot take more demand that the defined capacity\n",
    "    \"\"\"\n",
    "    def __init__(self, routes):\n",
    "        self.routes = routes\n",
    "    \n",
    "    def __repr__(self):\n",
    "        return str(self.__dict__)\n",
    "    \n",
    "class Constraints(object):\n",
    "    def __init__(self, vehicles, capacity):\n",
    "        self.vehicle_count = vehicles\n",
    "        self.capacity = capacity\n",
    "    def __repr__(self):\n",
    "        return str(self.__dict__)\n",
    "    \n",
    "    \n",
    "class Route(object):\n",
    "    \"\"\"\n",
    "        Route of single vehicle with global constraints\n",
    "        \n",
    "    \"\"\"\n",
    "    def __init__(self, constraints, vehicle_id, sequence, data):\n",
    "        self.constraints = constraints\n",
    "        self._id = vehicle_id\n",
    "        self.seq = sequence\n",
    "        self.cost = 0\n",
    "        self.feasable = self.check_feasability(data)\n",
    "        \n",
    "    def __repr__(self):\n",
    "        return str(self.__dict__)\n",
    "    \n",
    "    def check_feasability(self, data):\n",
    "        '''\n",
    "        place is the id of place in the route.\n",
    "        Each vehicle start at (0, 0) on time 0.\n",
    "        \n",
    "        '''\n",
    "        cap = self.constraints.capacity\n",
    "        for place in self.seq:\n",
    "            cap -= data[place].demand\n",
    "        if cap < 0:\n",
    "            return False\n",
    "        return self.count_cost(data)['result']\n",
    "        \n",
    "    def count_cost(self, data):\n",
    "        current_time = 0\n",
    "        last_place = Data()\n",
    "        cost = 0\n",
    "        # example data[place] = \"{'customer': 25, 'x_coord': 25, 'y_coord': 52, \n",
    "        # 'demand': 40, 'ready_time': 169, 'due_date': 224, 'service_time': 90}\"\n",
    "        for place in self.seq:\n",
    "            target = data[place]\n",
    "            arrival_time = current_time + dist(target, last_place)\n",
    "            last_place = target\n",
    "            if arrival_time < target.ready_time:\n",
    "                arrival_time = target.ready_time\n",
    "            if arrival_time <= target.due_date:\n",
    "                cost += arrival_time - current_time\n",
    "                current_time = arrival_time + target.service_time\n",
    "            else:\n",
    "                print(\"Cannot create route\")\n",
    "                return {'result': False, 'cost': 0 }\n",
    "        cost += dist(data[self.seq[-1]], Data())\n",
    "        self.cost = cost\n",
    "        return {'result': True, 'cost': cost }"
   ]
  },
  {
   "cell_type": "code",
   "execution_count": 5,
   "metadata": {},
   "outputs": [
    {
     "name": "stdout",
     "output_type": "stream",
     "text": [
      "{'constraints': {'vehicle_count': 25, 'capacity': 200}, '_id': 0, 'seq': [0, 3, 4], 'cost': 679.0, 'feasable': True}\n"
     ]
    }
   ],
   "source": [
    "r = Route(Constraints(vehicle_count, capacity), 0, [0, 3, 4], data)\n",
    "print(r)\n",
    "    "
   ]
  },
  {
   "cell_type": "code",
   "execution_count": null,
   "metadata": {},
   "outputs": [],
   "source": []
  },
  {
   "cell_type": "code",
   "execution_count": null,
   "metadata": {},
   "outputs": [],
   "source": []
  }
 ],
 "metadata": {
  "kernelspec": {
   "display_name": "Python 3",
   "language": "python",
   "name": "python3"
  },
  "language_info": {
   "codemirror_mode": {
    "name": "ipython",
    "version": 3
   },
   "file_extension": ".py",
   "mimetype": "text/x-python",
   "name": "python",
   "nbconvert_exporter": "python",
   "pygments_lexer": "ipython3",
   "version": "3.6.6"
  }
 },
 "nbformat": 4,
 "nbformat_minor": 2
}
